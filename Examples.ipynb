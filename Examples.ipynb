{
 "cells": [
  {
   "cell_type": "code",
   "execution_count": null,
   "metadata": {},
   "outputs": [],
   "source": [
    "from data import generate_mixture_gaussians, generate_happy_face\n",
    "from plotting_functions import plot_points\n",
    "import jax\n",
    "\n",
    "%load_ext autoreload\n",
    "%autoreload 2\n",
    "\n",
    "jax.config.update(\"jax_enable_x64\", True)\n",
    "\n",
    "x=generate_happy_face(1000)\n",
    "y=generate_mixture_gaussians(1000)\n",
    "\n",
    "plot_points(x)\n",
    "plot_points(y)"
   ]
  },
  {
   "cell_type": "code",
   "execution_count": null,
   "metadata": {},
   "outputs": [],
   "source": [
    "from sde import BridgeVPSDE\n",
    "import jax.numpy as jnp\n",
    "import jax.random as jr\n",
    "from plotting_functions import plot_points_over_time\n",
    "\n",
    "\n",
    "sde=BridgeVPSDE(.1, 1)\n",
    "\n",
    "def generate_steps(x, y, times, key=jr.PRNGKey(0) ,T=1):\n",
    "   \n",
    "    # Initialize an array to store the generated points\n",
    "    data = jnp.zeros((x.shape[0], 2, len(times)))\n",
    "    \n",
    "    # Loop over each time step\n",
    "    for i, t in enumerate(times):\n",
    "\n",
    "        key, subkey = jr.split(key)\n",
    "\n",
    "        mean, std = sde.p(x, y, t, T)\n",
    "        \n",
    "        # Generate points using the normal distribution\n",
    "        noise = jr.normal( subkey, x.shape)\n",
    "        sample=mean + std * noise\n",
    "        \n",
    "        data = data.at[:, :, i].set(sample)  \n",
    "        \n",
    "    return data\n",
    "\n",
    "# Example usage\n",
    "times = jnp.linspace(0, 1, 12)  # 10 time steps from 0 to 1\n",
    "data = generate_steps(x, y, times)\n",
    "plot_points_over_time(data, times)\n"
   ]
  },
  {
   "cell_type": "code",
   "execution_count": null,
   "metadata": {},
   "outputs": [],
   "source": [
    "from Score_nets import Bridge_Diffusion_Net, UNet\n",
    "import jax.random as jr\n",
    "\n",
    "key=jr.PRNGKey(0)\n",
    "\n",
    "UNet_Example=UNet(\n",
    "        key=key,\n",
    "        data_shape=(2,28,28),\n",
    "        is_biggan=False,\n",
    "        dim_mults=[1, 2, 4],\n",
    "        hidden_size=64,\n",
    "        heads=4,\n",
    "        dim_head=32,\n",
    "        dropout_rate=0.0,\n",
    "        num_res_blocks=2,\n",
    "        attn_resolutions=[16],\n",
    " \n",
    "    )\n",
    "\n",
    "model=Bridge_Diffusion_Net(key, 4,2)\n",
    "print(model)"
   ]
  },
  {
   "cell_type": "code",
   "execution_count": null,
   "metadata": {},
   "outputs": [],
   "source": [
    "\n",
    "from train import main\n",
    "import equinox as eqx\n",
    "\n",
    "%load_ext autoreload\n",
    "%autoreload 2\n",
    "\n",
    "key = jr.PRNGKey(123)\n",
    "x=generate_mixture_gaussians(100_000)\n",
    "y=generate_happy_face(100_000)\n",
    "\n",
    "\n",
    "model = eqx.tree_deserialise_leaves(\"checkpoints/Bridge/2d_bmin=.01_bmax=1.eqx\", model)\n",
    "main(model,\n",
    "      x,\n",
    "      sde,\n",
    "      data_y=y,\n",
    "      lr=1e-4,\n",
    "      print_every=1000,\n",
    "      filename=\"2d_bmin=.01_bmax=1\"\n",
    "      )"
   ]
  }
 ],
 "metadata": {
  "kernelspec": {
   "display_name": "bridge_test",
   "language": "python",
   "name": "python3"
  },
  "language_info": {
   "codemirror_mode": {
    "name": "ipython",
    "version": 3
   },
   "file_extension": ".py",
   "mimetype": "text/x-python",
   "name": "python",
   "nbconvert_exporter": "python",
   "pygments_lexer": "ipython3",
   "version": "3.11.4"
  }
 },
 "nbformat": 4,
 "nbformat_minor": 2
}